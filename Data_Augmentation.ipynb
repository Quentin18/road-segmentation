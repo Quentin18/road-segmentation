{
 "cells": [
  {
   "cell_type": "markdown",
   "id": "dedicated-commons",
   "metadata": {},
   "source": [
    "# Data Augmentation\n"
   ]
  },
  {
   "cell_type": "code",
   "execution_count": 82,
   "id": "equipped-fight",
   "metadata": {},
   "outputs": [],
   "source": [
    "import os\n",
    "\n",
    "import matplotlib.pyplot as plt\n",
    "import numpy as np\n",
    "\n",
    "import warnings\n",
    "warnings.filterwarnings('ignore')\n",
    "import numpy as np\n",
    "import skimage.io as io\n",
    "from skimage.transform import rotate, AffineTransform, warp\n",
    "from skimage.util import random_noise\n",
    "from skimage.filters import gaussian\n",
    "\n",
    "from skimage.io import imread, imsave\n",
    "from tqdm import tqdm\n",
    "import matplotlib.pyplot as plt\n",
    "%matplotlib inline\n",
    "\n",
    "from sklearn.model_selection import train_test_split\n",
    "from sklearn.metrics import accuracy_score\n",
    "\n",
    "from skimage.transform import rotate\n",
    "from skimage.util import random_noise\n",
    "from skimage.filters import gaussian\n",
    "from scipy import ndimage\n",
    "import torch\n",
    "from torch.nn import CrossEntropyLoss\n",
    "from torch.optim import SGD\n",
    "from torch.utils.data import DataLoader\n",
    "from torchvision import transforms\n",
    "\n",
    "\n",
    "\n",
    "\n",
    "from src.datasets import SatelliteImagesDataset, train_test_split\n",
    "from src.unet import UNet\n",
    "from src.path import DATA_TRAIN_IMG_PATH, MODELS_DIR, extract_archives\n",
    "from src.path import DATA_TRAIN_GT_PATH\n",
    "\n",
    "from src.plot_utils import plot_images\n",
    "# from src.plot_utils import plot_image_mask\n",
    "\n",
    "from numpy import asarray\n",
    "\n",
    "NUM_EPOCHS = 100\n",
    "MODEL_PATH = os.path.join(MODELS_DIR, 'convnet_model.pth')\n",
    "\n",
    "from PIL import Image"
   ]
  },
  {
   "cell_type": "markdown",
   "id": "center-purple",
   "metadata": {},
   "source": [
    "Load Path"
   ]
  },
  {
   "cell_type": "code",
   "execution_count": 103,
   "id": "frank-examination",
   "metadata": {},
   "outputs": [],
   "source": [
    "#Path to save Augmented Image\n",
    "from src.path import DATA_DIR\n",
    "AUGMENTED_IMAGES_DIR = os.path.join(DATA_DIR,'augmented/images')\n",
    "AUGMENTED_GT_DIR = os.path.join(DATA_DIR,'augmented/groundtruth')"
   ]
  },
  {
   "cell_type": "code",
   "execution_count": 96,
   "id": "headed-fleece",
   "metadata": {},
   "outputs": [
    {
     "data": {
      "text/plain": [
       "PIL.PngImagePlugin.PngImageFile"
      ]
     },
     "execution_count": 96,
     "metadata": {},
     "output_type": "execute_result"
    }
   ],
   "source": [
    "dataset = SatelliteImagesDataset(\n",
    "        img_dir=DATA_TRAIN_IMG_PATH,gt_dir=DATA_TRAIN_GT_PATH)\n",
    "\n",
    "image, mask = dataset[0]\n",
    "\n",
    "#plot_images(image, mask)\n",
    "\n",
    "type(image)"
   ]
  },
  {
   "cell_type": "markdown",
   "id": "collect-palestine",
   "metadata": {},
   "source": [
    "# Augmentation"
   ]
  },
  {
   "cell_type": "code",
   "execution_count": 119,
   "id": "rolled-romania",
   "metadata": {},
   "outputs": [],
   "source": [
    "#Enumerate Data\n",
    "for i, data in enumerate(dataset):\n",
    "    \n",
    "    if i>2 :\n",
    "        continue\n",
    "    \n",
    "    image, mask = data\n",
    "    #Get the numpy array\n",
    "    np_image = asarray(image)\n",
    "    np_gt = asarray(mask)\n",
    "    \n",
    "    #---------Flip-------------------\n",
    "    np_im_flip = np.fliplr(np_image)\n",
    "    np_gt_flip = np.fliplr(np_gt)\n",
    "    img_flip = Image.fromarray(np_im_flip, 'RGB')\n",
    "    gt_flip = Image.fromarray(np_gt_flip, 'L')\n",
    "    img_flip.save(f\"{AUGMENTED_IMAGES_DIR}/satImage_Flip_{i}.png\")\n",
    "    gt_flip.save(f\"{AUGMENTED_GT_DIR}/satImage_Flip_{i}.png\")\n",
    "    \n",
    "    #---------Rotate-----------------\n",
    "    np_im_rot = rotate(np_image,angle=45,mode = 'wrap')\n",
    "    np_gt_rot = rotate(np_gt,angle=45,mode = 'wrap')\n",
    "    img_rot = Image.fromarray(np_im_rot, 'RGB')\n",
    "    gt_rot = Image.fromarray(np_gt_rot, 'L')\n",
    "    img_rot.save(f\"{AUGMENTED_IMAGES_DIR}/satImage_Rot_{i}.png\")\n",
    "    gt_rot.save(f\"{AUGMENTED_GT_DIR}/satImage_Rot_{i}.png\")\n",
    "    \n",
    "    #---------Random Noise------------\n",
    "    np_im_noise = random_noise(np_image,var=0.2**2)\n",
    "    np_gt_noise = random_noise(np_gt,var=0.2**2)\n",
    "    img_noise = Image.fromarray(np_im_noise, 'RGB')\n",
    "    gt_noise = Image.fromarray(np_gt_noise, 'L')\n",
    "    img_noise.save(f\"{AUGMENTED_IMAGES_DIR}/satImage_Noise{i}.png\")\n",
    "    gt_noise.save(f\"{AUGMENTED_GT_DIR}/satImage_Noise{i}.png\")\n",
    "    \n",
    "    #--------Blurr----------------------\n",
    "    np_im_blurr = gaussian(np_image,sigma=1,multichannel=True)\n",
    "    np_gt_blurr = gaussian(np_gt,sigma=1,multichannel=True)\n",
    "    img_blurr = Image.fromarray(np_im_blurr, 'RGB')\n",
    "    gt_blurr = Image.fromarray(np_gt_blurr, 'L')\n",
    "    img_blurr.save(f\"{AUGMENTED_IMAGES_DIR}/satImage_Blurr{i}.png\")\n",
    "    gt_blurr.save(f\"{AUGMENTED_GT_DIR}/satImage_Blurr{i}.png\")\n",
    "    \n",
    "    "
   ]
  },
  {
   "cell_type": "code",
   "execution_count": null,
   "id": "scenic-campbell",
   "metadata": {},
   "outputs": [],
   "source": []
  }
 ],
 "metadata": {
  "kernelspec": {
   "display_name": "Python 3",
   "language": "python",
   "name": "python3"
  },
  "language_info": {
   "codemirror_mode": {
    "name": "ipython",
    "version": 3
   },
   "file_extension": ".py",
   "mimetype": "text/x-python",
   "name": "python",
   "nbconvert_exporter": "python",
   "pygments_lexer": "ipython3",
   "version": "3.8.5"
  }
 },
 "nbformat": 4,
 "nbformat_minor": 5
}
