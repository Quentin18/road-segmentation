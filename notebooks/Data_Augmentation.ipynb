{
 "cells": [
  {
   "cell_type": "markdown",
   "id": "dedicated-commons",
   "metadata": {},
   "source": [
    "# Data Augmentation\n"
   ]
  },
  {
   "cell_type": "code",
   "execution_count": 57,
   "id": "equipped-fight",
   "metadata": {},
   "outputs": [],
   "source": [
    "import os\n",
    "import sys\n",
    "\n",
    "import matplotlib.pyplot as plt\n",
    "import numpy as np\n",
    "\n",
    "import warnings\n",
    "warnings.filterwarnings('ignore')\n",
    "import numpy as np\n",
    "import skimage.io as io\n",
    "from skimage.transform import rotate, AffineTransform, warp\n",
    "from skimage.util import random_noise\n",
    "from skimage.filters import gaussian\n",
    "\n",
    "from skimage.io import imread, imsave\n",
    "from tqdm import tqdm\n",
    "import matplotlib.pyplot as plt\n",
    "%matplotlib inline\n",
    "\n",
    "from sklearn.model_selection import train_test_split\n",
    "from sklearn.metrics import accuracy_score\n",
    "\n",
    "from skimage.transform import rotate\n",
    "from skimage.util import random_noise\n",
    "from skimage.filters import gaussian\n",
    "from scipy import ndimage\n",
    "import torch\n",
    "from torch.nn import CrossEntropyLoss\n",
    "from torch.optim import SGD\n",
    "from torch.utils.data import DataLoader\n",
    "from torchvision import transforms\n",
    "\n",
    "#add Root directory to Path\n",
    "ROOT_DIR = os.path.dirname(os.getcwd())\n",
    "sys.path.append(ROOT_DIR)\n",
    "\n",
    "\n",
    "from src.datasets import SatelliteImagesDataset, train_test_split\n",
    "\n",
    "from src.path import DATA_TRAIN_IMG_PATH, MODELS_DIR, extract_archives\n",
    "from src.path import DATA_TRAIN_GT_PATH\n",
    "\n",
    "from src.plot_utils import plot_images\n",
    "import random\n",
    "\n",
    "from numpy import asarray\n",
    "\n",
    "NUM_EPOCHS = 100\n",
    "MODEL_PATH = os.path.join(MODELS_DIR, 'convnet_model.pth')\n",
    "\n",
    "from PIL import Image\n",
    "from PIL import ImageFilter\n"
   ]
  },
  {
   "cell_type": "markdown",
   "id": "center-purple",
   "metadata": {},
   "source": [
    "Load Path"
   ]
  },
  {
   "cell_type": "code",
   "execution_count": 58,
   "id": "frank-examination",
   "metadata": {},
   "outputs": [],
   "source": [
    "#Path to save Augmented Image\n",
    "from src.path import DATA_DIR\n",
    "AUGMENTED_IMAGES_DIR = os.path.join(DATA_DIR,'augmented/images')\n",
    "AUGMENTED_GT_DIR = os.path.join(DATA_DIR,'augmented/groundtruth')"
   ]
  },
  {
   "cell_type": "code",
   "execution_count": 59,
   "id": "headed-fleece",
   "metadata": {},
   "outputs": [],
   "source": [
    "dataset = SatelliteImagesDataset(\n",
    "        img_dir=DATA_TRAIN_IMG_PATH,gt_dir=DATA_TRAIN_GT_PATH)\n",
    "\n",
    "\n"
   ]
  },
  {
   "cell_type": "markdown",
   "id": "collect-palestine",
   "metadata": {},
   "source": [
    "# Augmentation"
   ]
  },
  {
   "cell_type": "code",
   "execution_count": 60,
   "id": "packed-apache",
   "metadata": {},
   "outputs": [],
   "source": [
    "#For Noise\n",
    "noise = np.random.randint(5, size = (400, 400, 3), dtype = 'uint8')\n",
    "\n",
    "#For Cropping, Better if its aleatory generated\n",
    "box = (50, 50, 300, 300)"
   ]
  },
  {
   "cell_type": "code",
   "execution_count": 61,
   "id": "rolled-romania",
   "metadata": {},
   "outputs": [],
   "source": [
    "#Enumerate Data\n",
    "\n",
    "transform = transforms.Compose([\n",
    "    transforms.RandomRotation((-180,180)),\n",
    "    transforms.CenterCrop((280,280))\n",
    "]) \n",
    "\n",
    "nb_trans = 5 #number of transformation by image\n",
    "\n",
    "for i, data in enumerate(dataset):\n",
    "    \n",
    "    if i>0 :\n",
    "        continue\n",
    "    \n",
    "    image, mask = data\n",
    "    #Get the numpy array\n",
    "\n",
    "    for k in range(nb_trans):\n",
    "        random.seed(i*nb_trans + k)\n",
    "        imageRot=transform(image)\n",
    "        random.seed(i*nb_trans + k)\n",
    "        MaskRot =transform(mask)\n",
    "\n",
    "        imageRot.save(f\"{AUGMENTED_IMAGES_DIR}/satImage_Augm_{i*nb_trans + k}.png\")\n",
    "        MaskRot.save(f\"{AUGMENTED_GT_DIR}/satImage_Augm_{i*nb_trans + k}.png\")\n",
    "    \n",
    "\n",
    " "
   ]
  },
  {
   "cell_type": "code",
   "execution_count": null,
   "id": "52397bfb",
   "metadata": {},
   "outputs": [],
   "source": []
  },
  {
   "cell_type": "code",
   "execution_count": null,
   "id": "12cd531d",
   "metadata": {},
   "outputs": [],
   "source": []
  }
 ],
 "metadata": {
  "kernelspec": {
   "display_name": "Python 3",
   "language": "python",
   "name": "python3"
  },
  "language_info": {
   "codemirror_mode": {
    "name": "ipython",
    "version": 3
   },
   "file_extension": ".py",
   "mimetype": "text/x-python",
   "name": "python",
   "nbconvert_exporter": "python",
   "pygments_lexer": "ipython3",
   "version": "3.8.5"
  }
 },
 "nbformat": 4,
 "nbformat_minor": 5
}
