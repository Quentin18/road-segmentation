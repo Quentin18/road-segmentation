{
 "cells": [
  {
   "cell_type": "markdown",
   "id": "dedicated-commons",
   "metadata": {},
   "source": [
    "# Data Augmentation\n"
   ]
  },
  {
   "cell_type": "code",
   "execution_count": 4,
   "id": "equipped-fight",
   "metadata": {},
   "outputs": [],
   "source": [
    "import os\n",
    "import sys\n",
    "\n",
    "import matplotlib.pyplot as plt\n",
    "import numpy as np\n",
    "\n",
    "import warnings\n",
    "warnings.filterwarnings('ignore')\n",
    "import numpy as np\n",
    "import skimage.io as io\n",
    "from skimage.transform import rotate, AffineTransform, warp\n",
    "from skimage.util import random_noise\n",
    "from skimage.filters import gaussian\n",
    "\n",
    "from skimage.io import imread, imsave\n",
    "from tqdm import tqdm\n",
    "import matplotlib.pyplot as plt\n",
    "%matplotlib inline\n",
    "\n",
    "from sklearn.model_selection import train_test_split\n",
    "from sklearn.metrics import accuracy_score\n",
    "\n",
    "from skimage.transform import rotate\n",
    "from skimage.util import random_noise\n",
    "from skimage.filters import gaussian\n",
    "from scipy import ndimage\n",
    "import torch\n",
    "from torch.nn import CrossEntropyLoss\n",
    "from torch.optim import SGD\n",
    "from torch.utils.data import DataLoader\n",
    "from torchvision import transforms\n",
    "\n",
    "#add Root directory to Path\n",
    "ROOT_DIR = os.path.dirname(os.getcwd())\n",
    "sys.path.append(ROOT_DIR)\n",
    "\n",
    "\n",
    "from src.datasets import SatelliteImagesDataset, train_test_split\n",
    "\n",
    "from src.path import DATA_TRAIN_IMG_PATH, MODELS_DIR, extract_archives\n",
    "from src.path import DATA_TRAIN_GT_PATH\n",
    "\n",
    "from src.plot_utils import plot_images\n",
    "\n",
    "\n",
    "from numpy import asarray\n",
    "\n",
    "NUM_EPOCHS = 100\n",
    "MODEL_PATH = os.path.join(MODELS_DIR, 'convnet_model.pth')\n",
    "\n",
    "from PIL import Image\n",
    "from PIL import ImageFilter\n"
   ]
  },
  {
   "cell_type": "markdown",
   "id": "center-purple",
   "metadata": {},
   "source": [
    "Load Path"
   ]
  },
  {
   "cell_type": "code",
   "execution_count": 5,
   "id": "frank-examination",
   "metadata": {},
   "outputs": [],
   "source": [
    "#Path to save Augmented Image\n",
    "from src.path import DATA_DIR\n",
    "AUGMENTED_IMAGES_DIR = os.path.join(DATA_DIR,'augmented/images')\n",
    "AUGMENTED_GT_DIR = os.path.join(DATA_DIR,'augmented/groundtruth')"
   ]
  },
  {
   "cell_type": "code",
   "execution_count": 6,
   "id": "headed-fleece",
   "metadata": {},
   "outputs": [],
   "source": [
    "dataset = SatelliteImagesDataset(\n",
    "        img_dir=DATA_TRAIN_IMG_PATH,gt_dir=DATA_TRAIN_GT_PATH)\n",
    "\n",
    "\n"
   ]
  },
  {
   "cell_type": "markdown",
   "id": "collect-palestine",
   "metadata": {},
   "source": [
    "# Augmentation"
   ]
  },
  {
   "cell_type": "code",
   "execution_count": 7,
   "id": "packed-apache",
   "metadata": {},
   "outputs": [],
   "source": [
    "#For Noise\n",
    "noise = np.random.randint(5, size = (400, 400, 3), dtype = 'uint8')\n",
    "\n",
    "#For Cropping, Better if its aleatory generated\n",
    "box = (50, 50, 300, 300)"
   ]
  },
  {
   "cell_type": "code",
   "execution_count": 4,
   "id": "rolled-romania",
   "metadata": {},
   "outputs": [
    {
     "ename": "NameError",
     "evalue": "name 'dataset' is not defined",
     "output_type": "error",
     "traceback": [
      "\u001b[0;31m---------------------------------------------------------------------------\u001b[0m",
      "\u001b[0;31mNameError\u001b[0m                                 Traceback (most recent call last)",
      "\u001b[0;32m<ipython-input-4-304d2be9c081>\u001b[0m in \u001b[0;36m<module>\u001b[0;34m\u001b[0m\n\u001b[1;32m      1\u001b[0m \u001b[0;31m#Enumerate Data\u001b[0m\u001b[0;34m\u001b[0m\u001b[0;34m\u001b[0m\u001b[0;34m\u001b[0m\u001b[0m\n\u001b[0;32m----> 2\u001b[0;31m \u001b[0;32mfor\u001b[0m \u001b[0mi\u001b[0m\u001b[0;34m,\u001b[0m \u001b[0mdata\u001b[0m \u001b[0;32min\u001b[0m \u001b[0menumerate\u001b[0m\u001b[0;34m(\u001b[0m\u001b[0mdataset\u001b[0m\u001b[0;34m)\u001b[0m\u001b[0;34m:\u001b[0m\u001b[0;34m\u001b[0m\u001b[0;34m\u001b[0m\u001b[0m\n\u001b[0m\u001b[1;32m      3\u001b[0m \u001b[0;34m\u001b[0m\u001b[0m\n\u001b[1;32m      4\u001b[0m     \u001b[0;32mif\u001b[0m \u001b[0mi\u001b[0m\u001b[0;34m>\u001b[0m\u001b[0;36m0\u001b[0m \u001b[0;34m:\u001b[0m\u001b[0;34m\u001b[0m\u001b[0;34m\u001b[0m\u001b[0m\n\u001b[1;32m      5\u001b[0m         \u001b[0;32mcontinue\u001b[0m\u001b[0;34m\u001b[0m\u001b[0;34m\u001b[0m\u001b[0m\n",
      "\u001b[0;31mNameError\u001b[0m: name 'dataset' is not defined"
     ]
    }
   ],
   "source": [
    "#Enumerate Data\n",
    "for i, data in enumerate(dataset):\n",
    "    \n",
    "    if i>0 :\n",
    "        continue\n",
    "    \n",
    "    image, mask = data\n",
    "    #Get the numpy array\n",
    "    np_image = np.array(image)\n",
    "    np_gt = np.array(mask)\n",
    "    \n",
    "    #---------Flip Left-Right--------\n",
    "    np_im_flip = np.fliplr(np_image)\n",
    "    np_gt_flip = np.fliplr(np_gt)\n",
    "    img_flip = Image.fromarray(np_im_flip, 'RGB')\n",
    "    gt_flip = Image.fromarray(np_gt_flip, 'L')\n",
    "    img_flip.save(f\"{AUGMENTED_IMAGES_DIR}/satImage_FlipLR_{i}.png\")\n",
    "    gt_flip.save(f\"{AUGMENTED_GT_DIR}/satImage_FlipLR_{i}.png\")\n",
    "    \n",
    "    #---------Flip Up-Down ---------\n",
    "    im_flipUD= image.transpose(Image.FLIP_TOP_BOTTOM)\n",
    "    gt_flipUD= mask.transpose(Image.FLIP_TOP_BOTTOM)\n",
    "    im_flipUD.save(f\"{AUGMENTED_IMAGES_DIR}/satImage_FlipUD_{i}.png\")\n",
    "    gt_flipUD.save(f\"{AUGMENTED_GT_DIR}/satImage_FlipUD_{i}.png\")\n",
    "    \n",
    "    #---------Rotate-----------------\n",
    "    img_rot = image.rotate(45)\n",
    "    gt_rot= mask.rotate(45)\n",
    "    img_rot.save(f\"{AUGMENTED_IMAGES_DIR}/satImage_Rot_{i}.png\")\n",
    "    gt_rot.save(f\"{AUGMENTED_GT_DIR}/satImage_Rot_{i}.png\")\n",
    "    \n",
    "    #---------Random Noise------------\n",
    "    np_im_noise = np_image\n",
    "    \n",
    "    for f in range(400):\n",
    "        for j in range(400):\n",
    "            for k in range(3):\n",
    "                if (np_im_noise[f][j][k] != 255):\n",
    "                    np_im_noise[f][j][k] += noise[f][j][k]\n",
    "    \n",
    "    img_noise = Image.fromarray(np_im_noise, 'RGB')\n",
    "    img_noise.save(f\"{AUGMENTED_IMAGES_DIR}/satImage_Noise{i}.png\")\n",
    "    #No change for the mask\n",
    "    mask.save(f\"{AUGMENTED_GT_DIR}/satImage_Noise{i}.png\")\n",
    "    \n",
    "    #--------Blurr----------------------\n",
    "    \n",
    "    img_blurr = image.filter(ImageFilter.BLUR)\n",
    "    \n",
    "    img_blurr.save(f\"{AUGMENTED_IMAGES_DIR}/satImage_Blurr{i}.png\")\n",
    "    #No change for the Mask\n",
    "    mask.save(f\"{AUGMENTED_GT_DIR}/satImage_Blurr{i}.png\")\n",
    "    \n",
    "    #-------CROP------------------------\n",
    "    im_crop = image.crop(box)\n",
    "    gt_crop = mask.crop(box)\n",
    "    im_crop.save(f\"{AUGMENTED_IMAGES_DIR}/satImage_Crop_{i}.png\")\n",
    "    gt_crop.save(f\"{AUGMENTED_GT_DIR}/satImage_Crop_{i}.png\")\n",
    "\n",
    "    \n",
    "\n",
    "\n",
    "\n",
    "\n",
    "    "
   ]
  },
  {
   "cell_type": "code",
   "execution_count": 17,
   "id": "scenic-campbell",
   "metadata": {},
   "outputs": [],
   "source": [
    "\n",
    "image, mask = dataset[0]\n",
    "transform = transforms.Compose([\n",
    "    transforms.RandomRotation((-180,180)),\n",
    "    transforms.CenterCrop((200,200))\n",
    "]) \n",
    "    \n",
    "\n",
    "imageRot=transform(image)\n",
    "\n",
    "imageRot.save(f\"{AUGMENTED_IMAGES_DIR}/satImage_RdmRot_{0}.png\")"
   ]
  },
  {
   "cell_type": "code",
   "execution_count": null,
   "id": "brown-basement",
   "metadata": {},
   "outputs": [],
   "source": []
  }
 ],
 "metadata": {
  "kernelspec": {
   "display_name": "Python 3",
   "language": "python",
   "name": "python3"
  },
  "language_info": {
   "codemirror_mode": {
    "name": "ipython",
    "version": 3
   },
   "file_extension": ".py",
   "mimetype": "text/x-python",
   "name": "python",
   "nbconvert_exporter": "python",
   "pygments_lexer": "ipython3",
   "version": "3.8.5"
  }
 },
 "nbformat": 4,
 "nbformat_minor": 5
}
